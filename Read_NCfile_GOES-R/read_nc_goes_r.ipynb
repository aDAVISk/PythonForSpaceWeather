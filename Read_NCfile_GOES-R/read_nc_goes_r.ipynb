{
  "nbformat": 4,
  "nbformat_minor": 0,
  "metadata": {
    "colab": {
      "provenance": []
    },
    "kernelspec": {
      "name": "python3",
      "display_name": "Python 3"
    },
    "language_info": {
      "name": "python"
    }
  },
  "cells": [
    {
      "cell_type": "markdown",
      "source": [
        "# Sample code to read .nc file from GOES-R Level 2 Data\n",
        "\n",
        "GOES-R Level 2 Data :\n",
        "https://www.ngdc.noaa.gov/stp/satellite/goes-r.html\n",
        "\n",
        "An example of usage : <br>\n",
        "1) choose \"XRS 1-min Averages\" of GOES-18<br>\n",
        "2) go down to the directories such that ~/2023/09/.<br>\n",
        "3) download the nc file of the date of interest such that `sci_xrsf-l2-avg1m_g18_d20230924_v2-2-0.nc`.<br>\n",
        "4) upload the file on the Files tab on the left.<br>\n",
        "5) modifile the variable `ncfile` for your nc file name."
      ],
      "metadata": {
        "id": "Yaf6cNyPD50l"
      }
    },
    {
      "cell_type": "code",
      "source": [
        "ncfile = \"sci_xrsf-l2-avg1m_g18_d20230924_v2-2-0.nc\""
      ],
      "metadata": {
        "id": "70kMWdIBFhQW"
      },
      "execution_count": 1,
      "outputs": []
    },
    {
      "cell_type": "code",
      "execution_count": 2,
      "metadata": {
        "colab": {
          "base_uri": "https://localhost:8080/"
        },
        "id": "3LHcRoEz_uaL",
        "outputId": "09498ce9-3d39-4702-805e-80b177ae6410"
      },
      "outputs": [
        {
          "output_type": "stream",
          "name": "stdout",
          "text": [
            "Requirement already satisfied: netCDF4 in /usr/local/lib/python3.10/dist-packages (1.6.4)\n",
            "Requirement already satisfied: cftime in /usr/local/lib/python3.10/dist-packages (from netCDF4) (1.6.2)\n",
            "Requirement already satisfied: certifi in /usr/local/lib/python3.10/dist-packages (from netCDF4) (2023.7.22)\n",
            "Requirement already satisfied: numpy in /usr/local/lib/python3.10/dist-packages (from netCDF4) (1.23.5)\n"
          ]
        }
      ],
      "source": [
        "!pip install netCDF4"
      ]
    },
    {
      "cell_type": "code",
      "source": [
        "import netCDF4\n",
        "import inspect\n",
        "from datetime import datetime\n",
        "from datetime import timedelta"
      ],
      "metadata": {
        "id": "alc4PY5L_xl5"
      },
      "execution_count": 3,
      "outputs": []
    },
    {
      "cell_type": "code",
      "source": [
        "nc =  netCDF4.Dataset(ncfile,\"r\")"
      ],
      "metadata": {
        "id": "apINWWcQAWxR"
      },
      "execution_count": 4,
      "outputs": []
    },
    {
      "cell_type": "code",
      "source": [
        "#for vv in inspect.getmembers(nc):\n",
        "#  print(vv)"
      ],
      "metadata": {
        "id": "w6uvE4LSAiRg"
      },
      "execution_count": 5,
      "outputs": []
    },
    {
      "cell_type": "code",
      "source": [
        "t0 = datetime.fromisoformat(\"2000-01-01 12:00:00\")"
      ],
      "metadata": {
        "id": "Pxo8s2sPBLJo"
      },
      "execution_count": 6,
      "outputs": []
    },
    {
      "cell_type": "code",
      "source": [
        "for ii in range(4):\n",
        "  tt = t0 + timedelta(seconds=float(nc.variables[\"time\"][ii]))\n",
        "  print(tt,float(nc.variables[\"xrsa_flux\"][ii]),float(nc.variables[\"xrsa_flux\"][ii]))"
      ],
      "metadata": {
        "colab": {
          "base_uri": "https://localhost:8080/"
        },
        "id": "xfAXLMaaCivW",
        "outputId": "58000409-61d3-42e7-e9b9-8c26ca5191af"
      },
      "execution_count": 7,
      "outputs": [
        {
          "output_type": "stream",
          "name": "stdout",
          "text": [
            "2023-09-24 00:00:00 2.7766741794721383e-08 2.7766741794721383e-08\n",
            "2023-09-24 00:01:00 2.7128100654749687e-08 2.7128100654749687e-08\n",
            "2023-09-24 00:02:00 2.7189141604821998e-08 2.7189141604821998e-08\n",
            "2023-09-24 00:03:00 2.711159297064114e-08 2.711159297064114e-08\n"
          ]
        }
      ]
    }
  ]
}